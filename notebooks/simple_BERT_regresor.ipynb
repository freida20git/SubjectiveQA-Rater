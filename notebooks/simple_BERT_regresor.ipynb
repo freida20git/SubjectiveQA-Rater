{
 "cells": [
  {
   "cell_type": "markdown",
   "metadata": {
    "colab_type": "text",
    "id": "view-in-github"
   },
   "source": [
    "<a href=\"https://colab.research.google.com/github/freida20git/SubjectiveQA-Rater/blob/main/notebooks/Copy_of_simple_Bert_regresor.ipynb\" target=\"_parent\"><img src=\"https://colab.research.google.com/assets/colab-badge.svg\" alt=\"Open In Colab\"/></a>"
   ]
  },
  {
   "cell_type": "code",
   "execution_count": 1,
   "metadata": {},
   "outputs": [
    {
     "name": "stdout",
     "output_type": "stream",
     "text": [
      "Mounted at /content/drive\n"
     ]
    }
   ],
   "source": [
    "# 1. Mount Drive and import libraries\n",
    "from google.colab import drive\n",
    "drive.mount('/content/drive')\n"
   ]
  },
  {
   "cell_type": "code",
   "execution_count": 2,
   "metadata": {},
   "outputs": [],
   "source": [
    "import pandas as pd\n",
    "import numpy as np\n",
    "import torch\n",
    "from torch.utils.data import Dataset, DataLoader\n",
    "from transformers import BertTokenizer, BertModel\n",
    "import torch.nn as nn\n",
    "from sklearn.model_selection import train_test_split\n",
    "\n",
    "# 1. Load and preprocess data\n",
    "file_path = '/content/drive/MyDrive/colab/filtered_data.csv'\n",
    "df = pd.read_csv(file_path, encoding='ISO-8859-1')\n",
    "df = df.fillna(\"\")\n",
    "\n"
   ]
  },
  {
   "cell_type": "code",
   "execution_count": 3,
   "metadata": {},
   "outputs": [
    {
     "name": "stdout",
     "output_type": "stream",
     "text": [
      "✅ Final DataFrame shape: (6079, 5)\n",
      "📄 Columns: ['qa_id', 'text', 'category', 'host', 'label']\n"
     ]
    },
    {
     "data": {
      "application/vnd.google.colaboratory.intrinsic+json": {
       "summary": "{\n  \"name\": \"df\",\n  \"rows\": 6079,\n  \"fields\": [\n    {\n      \"column\": \"qa_id\",\n      \"properties\": {\n        \"dtype\": \"number\",\n        \"std\": 2789,\n        \"min\": 0,\n        \"max\": 9647,\n        \"num_unique_values\": 6079,\n        \"samples\": [\n          5299,\n          477,\n          552\n        ],\n        \"semantic_type\": \"\",\n        \"description\": \"\"\n      }\n    },\n    {\n      \"column\": \"text\",\n      \"properties\": {\n        \"dtype\": \"string\",\n        \"num_unique_values\": 6079,\n        \"samples\": [\n          \"Title: Very simple particle filters algorithm (sequential monte carlo method) implementation [SEP] Body: I'm interested in the simple algorithm for particles filter given here. It seems very simple but I have no idea on how to do it practically. Any idea on how to implement it (just to better understand how it works) ?\\n\\nEdit:\\nThis is a great simple example  that explain how it works. I've tried to implement it in C++: see my code here, but I'm note sure if I do it the right way. Can you please check if I understood it well, or there are some misunderstanding according to my code ?\\n [SEP] Answer: What that sentence means is you should generate $x_t^{(i)}$ from the distribution of $p(x_t|x^{(i)}_{t?1})$. \\n\\nFor an alternative introduction to particle filters I recommend An Overview of Existing Methods and Recent Advances in Sequential Monte Carlo\\n\\nMATLAB has numerous toolboxes on particle filters. If you are working in C++, here is an implementation you can use to compare your code with.\\n\",\n          \"Title: What are the benefits of owning a physical book? [SEP] Body: I have seen this question about updates of the D&amp;D 4th Edition books, and it got me thinking.\\nSince I got my Kindle I have not read a single paper novel; they have fewer drawbacks compared to digital copies than rpg rulebooks.\\n\\n\\nDead-tree types have some benefits like looking good on a bookshelf, but any ebook reader weighs less with 100 novels than the usual hard-cover book. \\nIf you want to look for the damage of Ares Alpha, even with a half-decent tablet it takes less than 2 seconds.  \\nDigital copies do not get worn, they never get unwanted earmarks, but you can bookmark them.\\nRulebooks do get updates, and unless you are willing to take a pen to your book, your hard copies will never contain them. The pdfs can be edited and resent to the buyers. \\nEven better is the WotC approach with the DDI, you can look up any monster or item or (almost any) rule, in the most recent form, for 3 years at the cost of seven books. \\n\\n\\nI think this is the way to go, even considering the horribly slow character builder. Although I must admit good illustration can help build the athmosphere.\\n\\nSo what am I missing? Why are people buying rpg rulebooks in paper format? Why are books even published, I do not need to know if feats are supposed to be on the right page and skills on the left, I just want a list of them, filterable any way I want. \\n\\nIs this just a necessary part of earning money? I understand that pdfs are copied illegally, but the Compendium is not. \\n [SEP] Answer: I own an ebook, and I find it more comfortable linear reading than in physical books. Also, it's very handy when looking for exact words.\\n\\nBut I find flipping the pages looking for something that is not bookmarked or you don't know exactly where it is, (and you don't know what words look for) or doing diagonal reading on several pages much easier in physical books.\\n\\nOne thing that it's not very important to me, but it is to a lot of people is the aesthetic and emotional factors. A good physical book is something pretty that you can have and manipulate on your hands and that looks well on your bookshelf. Also, in time you can be emotionally attached to your manuals (especially if you own only a handful), but is rarer to feel the same to a digital file.\\n\\nStill, it's probable that if you have a good and fast ebook reader, the advantages of digital formats are more than the disadvantages, but answering your question, these are the benefits of physical books that come to my mind.\\n\",\n          \"Title: Where are the fishing spots surrounded by rocks etc, and do they actually increase the chances of catching fish? [SEP] Body: While talking to the fisher guy in the fishing hut he told me the best place to fish was in small places surrounded be rocks or wall. \\n\\nIs this true? If so, where are theses places in the game? Is there anything else that helps to catch more fish? \\n\\nFor example, I have noticed that fishing next to a fisherman seems to have a higher chance of catching something. is this correct, and what else helps with fishing?\\n [SEP] Answer: Yes, fishing in a small tile of water walled off by shore and/or rocks on three of the 4 sides decreases the chance of \\\"Nothing seems to be biting...\\\" message. This does not reduce the chances of not catching anything to 0, but it is considerably better than it is otherwise.\\n\\nHowever, if you are chain-fishing for shiny Pokemon, your best bet is is to have your lead Pokemon have the ability Suction Cups or Sticky Hold. If the Pokemon you've chosen for the task is under-leveled compared to what you are fishing, having it hold something like a smoke ball will allow you to flee from the hordes of non-shinies without fail.\\n\\nFor more information on how chain-fishing works (specifically what will and will not break the chain) see this question/answer; How does chain fishing work?\\n\"\n        ],\n        \"semantic_type\": \"\",\n        \"description\": \"\"\n      }\n    },\n    {\n      \"column\": \"category\",\n      \"properties\": {\n        \"dtype\": \"category\",\n        \"num_unique_values\": 5,\n        \"samples\": [\n          \"CULTURE\",\n          \"TECHNOLOGY\",\n          \"SCIENCE\"\n        ],\n        \"semantic_type\": \"\",\n        \"description\": \"\"\n      }\n    },\n    {\n      \"column\": \"host\",\n      \"properties\": {\n        \"dtype\": \"category\",\n        \"num_unique_values\": 63,\n        \"samples\": [\n          \"meta.codereview.stackexchange.com\",\n          \"robotics.stackexchange.com\",\n          \"photo.stackexchange.com\"\n        ],\n        \"semantic_type\": \"\",\n        \"description\": \"\"\n      }\n    },\n    {\n      \"column\": \"label\",\n      \"properties\": {\n        \"dtype\": \"number\",\n        \"std\": 0.1307428492182978,\n        \"min\": 0.2,\n        \"max\": 1.0,\n        \"num_unique_values\": 17,\n        \"samples\": [\n          0.8,\n          0.666666667,\n          0.533333333\n        ],\n        \"semantic_type\": \"\",\n        \"description\": \"\"\n      }\n    }\n  ]\n}",
       "type": "dataframe",
       "variable_name": "df"
      },
      "text/html": [
       "\n",
       "  <div id=\"df-3f9525ac-fc72-45aa-9299-0283088273a8\" class=\"colab-df-container\">\n",
       "    <div>\n",
       "<style scoped>\n",
       "    .dataframe tbody tr th:only-of-type {\n",
       "        vertical-align: middle;\n",
       "    }\n",
       "\n",
       "    .dataframe tbody tr th {\n",
       "        vertical-align: top;\n",
       "    }\n",
       "\n",
       "    .dataframe thead th {\n",
       "        text-align: right;\n",
       "    }\n",
       "</style>\n",
       "<table border=\"1\" class=\"dataframe\">\n",
       "  <thead>\n",
       "    <tr style=\"text-align: right;\">\n",
       "      <th></th>\n",
       "      <th>qa_id</th>\n",
       "      <th>text</th>\n",
       "      <th>category</th>\n",
       "      <th>host</th>\n",
       "      <th>label</th>\n",
       "    </tr>\n",
       "  </thead>\n",
       "  <tbody>\n",
       "    <tr>\n",
       "      <th>0</th>\n",
       "      <td>0</td>\n",
       "      <td>Title: What am I losing when using extension t...</td>\n",
       "      <td>LIFE_ARTS</td>\n",
       "      <td>photo.stackexchange.com</td>\n",
       "      <td>0.800000</td>\n",
       "    </tr>\n",
       "    <tr>\n",
       "      <th>1</th>\n",
       "      <td>1</td>\n",
       "      <td>Title: What is the distinction between a city ...</td>\n",
       "      <td>CULTURE</td>\n",
       "      <td>rpg.stackexchange.com</td>\n",
       "      <td>0.666667</td>\n",
       "    </tr>\n",
       "    <tr>\n",
       "      <th>2</th>\n",
       "      <td>2</td>\n",
       "      <td>Title: Maximum protusion length for through-ho...</td>\n",
       "      <td>SCIENCE</td>\n",
       "      <td>electronics.stackexchange.com</td>\n",
       "      <td>0.666667</td>\n",
       "    </tr>\n",
       "    <tr>\n",
       "      <th>3</th>\n",
       "      <td>3</td>\n",
       "      <td>Title: Can an affidavit be used in Beit Din? [...</td>\n",
       "      <td>CULTURE</td>\n",
       "      <td>judaism.stackexchange.com</td>\n",
       "      <td>0.800000</td>\n",
       "    </tr>\n",
       "    <tr>\n",
       "      <th>4</th>\n",
       "      <td>5</td>\n",
       "      <td>Title: How do you make a binary image in Photo...</td>\n",
       "      <td>LIFE_ARTS</td>\n",
       "      <td>graphicdesign.stackexchange.com</td>\n",
       "      <td>0.800000</td>\n",
       "    </tr>\n",
       "  </tbody>\n",
       "</table>\n",
       "</div>\n",
       "    <div class=\"colab-df-buttons\">\n",
       "\n",
       "  <div class=\"colab-df-container\">\n",
       "    <button class=\"colab-df-convert\" onclick=\"convertToInteractive('df-3f9525ac-fc72-45aa-9299-0283088273a8')\"\n",
       "            title=\"Convert this dataframe to an interactive table.\"\n",
       "            style=\"display:none;\">\n",
       "\n",
       "  <svg xmlns=\"http://www.w3.org/2000/svg\" height=\"24px\" viewBox=\"0 -960 960 960\">\n",
       "    <path d=\"M120-120v-720h720v720H120Zm60-500h600v-160H180v160Zm220 220h160v-160H400v160Zm0 220h160v-160H400v160ZM180-400h160v-160H180v160Zm440 0h160v-160H620v160ZM180-180h160v-160H180v160Zm440 0h160v-160H620v160Z\"/>\n",
       "  </svg>\n",
       "    </button>\n",
       "\n",
       "  <style>\n",
       "    .colab-df-container {\n",
       "      display:flex;\n",
       "      gap: 12px;\n",
       "    }\n",
       "\n",
       "    .colab-df-convert {\n",
       "      background-color: #E8F0FE;\n",
       "      border: none;\n",
       "      border-radius: 50%;\n",
       "      cursor: pointer;\n",
       "      display: none;\n",
       "      fill: #1967D2;\n",
       "      height: 32px;\n",
       "      padding: 0 0 0 0;\n",
       "      width: 32px;\n",
       "    }\n",
       "\n",
       "    .colab-df-convert:hover {\n",
       "      background-color: #E2EBFA;\n",
       "      box-shadow: 0px 1px 2px rgba(60, 64, 67, 0.3), 0px 1px 3px 1px rgba(60, 64, 67, 0.15);\n",
       "      fill: #174EA6;\n",
       "    }\n",
       "\n",
       "    .colab-df-buttons div {\n",
       "      margin-bottom: 4px;\n",
       "    }\n",
       "\n",
       "    [theme=dark] .colab-df-convert {\n",
       "      background-color: #3B4455;\n",
       "      fill: #D2E3FC;\n",
       "    }\n",
       "\n",
       "    [theme=dark] .colab-df-convert:hover {\n",
       "      background-color: #434B5C;\n",
       "      box-shadow: 0px 1px 3px 1px rgba(0, 0, 0, 0.15);\n",
       "      filter: drop-shadow(0px 1px 2px rgba(0, 0, 0, 0.3));\n",
       "      fill: #FFFFFF;\n",
       "    }\n",
       "  </style>\n",
       "\n",
       "    <script>\n",
       "      const buttonEl =\n",
       "        document.querySelector('#df-3f9525ac-fc72-45aa-9299-0283088273a8 button.colab-df-convert');\n",
       "      buttonEl.style.display =\n",
       "        google.colab.kernel.accessAllowed ? 'block' : 'none';\n",
       "\n",
       "      async function convertToInteractive(key) {\n",
       "        const element = document.querySelector('#df-3f9525ac-fc72-45aa-9299-0283088273a8');\n",
       "        const dataTable =\n",
       "          await google.colab.kernel.invokeFunction('convertToInteractive',\n",
       "                                                    [key], {});\n",
       "        if (!dataTable) return;\n",
       "\n",
       "        const docLinkHtml = 'Like what you see? Visit the ' +\n",
       "          '<a target=\"_blank\" href=https://colab.research.google.com/notebooks/data_table.ipynb>data table notebook</a>'\n",
       "          + ' to learn more about interactive tables.';\n",
       "        element.innerHTML = '';\n",
       "        dataTable['output_type'] = 'display_data';\n",
       "        await google.colab.output.renderOutput(dataTable, element);\n",
       "        const docLink = document.createElement('div');\n",
       "        docLink.innerHTML = docLinkHtml;\n",
       "        element.appendChild(docLink);\n",
       "      }\n",
       "    </script>\n",
       "  </div>\n",
       "\n",
       "\n",
       "    <div id=\"df-288981ab-d015-4bb4-a1f6-d59a46c6b88f\">\n",
       "      <button class=\"colab-df-quickchart\" onclick=\"quickchart('df-288981ab-d015-4bb4-a1f6-d59a46c6b88f')\"\n",
       "                title=\"Suggest charts\"\n",
       "                style=\"display:none;\">\n",
       "\n",
       "<svg xmlns=\"http://www.w3.org/2000/svg\" height=\"24px\"viewBox=\"0 0 24 24\"\n",
       "     width=\"24px\">\n",
       "    <g>\n",
       "        <path d=\"M19 3H5c-1.1 0-2 .9-2 2v14c0 1.1.9 2 2 2h14c1.1 0 2-.9 2-2V5c0-1.1-.9-2-2-2zM9 17H7v-7h2v7zm4 0h-2V7h2v10zm4 0h-2v-4h2v4z\"/>\n",
       "    </g>\n",
       "</svg>\n",
       "      </button>\n",
       "\n",
       "<style>\n",
       "  .colab-df-quickchart {\n",
       "      --bg-color: #E8F0FE;\n",
       "      --fill-color: #1967D2;\n",
       "      --hover-bg-color: #E2EBFA;\n",
       "      --hover-fill-color: #174EA6;\n",
       "      --disabled-fill-color: #AAA;\n",
       "      --disabled-bg-color: #DDD;\n",
       "  }\n",
       "\n",
       "  [theme=dark] .colab-df-quickchart {\n",
       "      --bg-color: #3B4455;\n",
       "      --fill-color: #D2E3FC;\n",
       "      --hover-bg-color: #434B5C;\n",
       "      --hover-fill-color: #FFFFFF;\n",
       "      --disabled-bg-color: #3B4455;\n",
       "      --disabled-fill-color: #666;\n",
       "  }\n",
       "\n",
       "  .colab-df-quickchart {\n",
       "    background-color: var(--bg-color);\n",
       "    border: none;\n",
       "    border-radius: 50%;\n",
       "    cursor: pointer;\n",
       "    display: none;\n",
       "    fill: var(--fill-color);\n",
       "    height: 32px;\n",
       "    padding: 0;\n",
       "    width: 32px;\n",
       "  }\n",
       "\n",
       "  .colab-df-quickchart:hover {\n",
       "    background-color: var(--hover-bg-color);\n",
       "    box-shadow: 0 1px 2px rgba(60, 64, 67, 0.3), 0 1px 3px 1px rgba(60, 64, 67, 0.15);\n",
       "    fill: var(--button-hover-fill-color);\n",
       "  }\n",
       "\n",
       "  .colab-df-quickchart-complete:disabled,\n",
       "  .colab-df-quickchart-complete:disabled:hover {\n",
       "    background-color: var(--disabled-bg-color);\n",
       "    fill: var(--disabled-fill-color);\n",
       "    box-shadow: none;\n",
       "  }\n",
       "\n",
       "  .colab-df-spinner {\n",
       "    border: 2px solid var(--fill-color);\n",
       "    border-color: transparent;\n",
       "    border-bottom-color: var(--fill-color);\n",
       "    animation:\n",
       "      spin 1s steps(1) infinite;\n",
       "  }\n",
       "\n",
       "  @keyframes spin {\n",
       "    0% {\n",
       "      border-color: transparent;\n",
       "      border-bottom-color: var(--fill-color);\n",
       "      border-left-color: var(--fill-color);\n",
       "    }\n",
       "    20% {\n",
       "      border-color: transparent;\n",
       "      border-left-color: var(--fill-color);\n",
       "      border-top-color: var(--fill-color);\n",
       "    }\n",
       "    30% {\n",
       "      border-color: transparent;\n",
       "      border-left-color: var(--fill-color);\n",
       "      border-top-color: var(--fill-color);\n",
       "      border-right-color: var(--fill-color);\n",
       "    }\n",
       "    40% {\n",
       "      border-color: transparent;\n",
       "      border-right-color: var(--fill-color);\n",
       "      border-top-color: var(--fill-color);\n",
       "    }\n",
       "    60% {\n",
       "      border-color: transparent;\n",
       "      border-right-color: var(--fill-color);\n",
       "    }\n",
       "    80% {\n",
       "      border-color: transparent;\n",
       "      border-right-color: var(--fill-color);\n",
       "      border-bottom-color: var(--fill-color);\n",
       "    }\n",
       "    90% {\n",
       "      border-color: transparent;\n",
       "      border-bottom-color: var(--fill-color);\n",
       "    }\n",
       "  }\n",
       "</style>\n",
       "\n",
       "      <script>\n",
       "        async function quickchart(key) {\n",
       "          const quickchartButtonEl =\n",
       "            document.querySelector('#' + key + ' button');\n",
       "          quickchartButtonEl.disabled = true;  // To prevent multiple clicks.\n",
       "          quickchartButtonEl.classList.add('colab-df-spinner');\n",
       "          try {\n",
       "            const charts = await google.colab.kernel.invokeFunction(\n",
       "                'suggestCharts', [key], {});\n",
       "          } catch (error) {\n",
       "            console.error('Error during call to suggestCharts:', error);\n",
       "          }\n",
       "          quickchartButtonEl.classList.remove('colab-df-spinner');\n",
       "          quickchartButtonEl.classList.add('colab-df-quickchart-complete');\n",
       "        }\n",
       "        (() => {\n",
       "          let quickchartButtonEl =\n",
       "            document.querySelector('#df-288981ab-d015-4bb4-a1f6-d59a46c6b88f button');\n",
       "          quickchartButtonEl.style.display =\n",
       "            google.colab.kernel.accessAllowed ? 'block' : 'none';\n",
       "        })();\n",
       "      </script>\n",
       "    </div>\n",
       "\n",
       "    </div>\n",
       "  </div>\n"
      ],
      "text/plain": [
       "   qa_id                                               text   category  \\\n",
       "0      0  Title: What am I losing when using extension t...  LIFE_ARTS   \n",
       "1      1  Title: What is the distinction between a city ...    CULTURE   \n",
       "2      2  Title: Maximum protusion length for through-ho...    SCIENCE   \n",
       "3      3  Title: Can an affidavit be used in Beit Din? [...    CULTURE   \n",
       "4      5  Title: How do you make a binary image in Photo...  LIFE_ARTS   \n",
       "\n",
       "                              host     label  \n",
       "0          photo.stackexchange.com  0.800000  \n",
       "1            rpg.stackexchange.com  0.666667  \n",
       "2    electronics.stackexchange.com  0.666667  \n",
       "3        judaism.stackexchange.com  0.800000  \n",
       "4  graphicdesign.stackexchange.com  0.800000  "
      ]
     },
     "execution_count": 3,
     "metadata": {},
     "output_type": "execute_result"
    }
   ],
   "source": [
    "#drop all besides: 'answer_satisfaction'import pandas as pd\n",
    "# Rename target column to \"label\" (required by HuggingFace)\n",
    "df = df.rename(columns={\"answer_satisfaction\": \"label\"})\n",
    "# Define metrics to drop (ALL metrics except answer_relevance which we just renamed to 'label')\n",
    "drop_cols = [\n",
    " 'question_asker_intent_understanding',\n",
    " 'question_body_critical',\n",
    " 'question_conversational',\n",
    " 'question_expect_short_answer',\n",
    " 'question_fact_seeking',\n",
    " 'question_has_commonly_accepted_answer',\n",
    " 'question_interestingness_others',\n",
    " 'question_interestingness_self',\n",
    " 'question_multi_intent',\n",
    " 'question_not_really_a_question',\n",
    " 'question_opinion_seeking',\n",
    " 'question_type_choice',\n",
    " 'question_type_compare',\n",
    " 'question_type_consequence',\n",
    " 'question_type_definition',\n",
    " 'question_type_entity',\n",
    " 'question_type_instructions',\n",
    " 'question_type_procedure',\n",
    " 'question_type_reason_explanation',\n",
    " 'question_type_spelling',\n",
    " 'question_well_written',\n",
    " 'answer_helpful',\n",
    " 'answer_level_of_information',\n",
    " 'answer_plausible',\n",
    " 'answer_relevance',\n",
    " 'answer_type_instructions',\n",
    " 'answer_type_procedure',\n",
    " 'answer_type_reason_explanation',\n",
    " 'answer_well_written'\n",
    "]\n",
    "\n",
    "# Drop ONLY columns that exist\n",
    "df = df.drop(columns=[col for col in drop_cols if col in df.columns])\n",
    "df = df.fillna(\"\")\n",
    "\n",
    "df[\"text\"] = (\n",
    "    \"Title: \" + df[\"question_title\"] +\n",
    "    \" [SEP] Body: \" + df[\"question_body\"] +\n",
    "    \" [SEP] Answer: \" + df[\"answer\"]\n",
    ")\n",
    "\n",
    "# Final cleanup: drop raw text columns, keep metadata + label + text\n",
    "df = df[[\"qa_id\", \"text\", \"category\", \"host\", \"label\"]]\n",
    "\n",
    "# Optional: verify no duplicates in column names or data\n",
    "assert df.columns.duplicated().sum() == 0, \"Duplicate column names!\"\n",
    "print(\"✅ Final DataFrame shape:\", df.shape)\n",
    "print(\"📄 Columns:\", df.columns.tolist())\n",
    "df.head()\n"
   ]
  },
  {
   "cell_type": "code",
   "execution_count": 4,
   "metadata": {},
   "outputs": [
    {
     "name": "stderr",
     "output_type": "stream",
     "text": [
      "/usr/local/lib/python3.11/dist-packages/huggingface_hub/utils/_auth.py:94: UserWarning: \n",
      "The secret `HF_TOKEN` does not exist in your Colab secrets.\n",
      "To authenticate with the Hugging Face Hub, create a token in your settings tab (https://huggingface.co/settings/tokens), set it as secret in your Google Colab and restart your session.\n",
      "You will be able to reuse this secret in all of your notebooks.\n",
      "Please note that authentication is recommended but still optional to access public models or datasets.\n",
      "  warnings.warn(\n"
     ]
    },
    {
     "data": {
      "application/vnd.jupyter.widget-view+json": {
       "model_id": "57e5e7cb206c4f85938b64e9d3f40025",
       "version_major": 2,
       "version_minor": 0
      },
      "text/plain": [
       "tokenizer_config.json:   0%|          | 0.00/48.0 [00:00<?, ?B/s]"
      ]
     },
     "metadata": {},
     "output_type": "display_data"
    },
    {
     "data": {
      "application/vnd.jupyter.widget-view+json": {
       "model_id": "9617235fab29444d9dd87bf1e878d257",
       "version_major": 2,
       "version_minor": 0
      },
      "text/plain": [
       "config.json:   0%|          | 0.00/570 [00:00<?, ?B/s]"
      ]
     },
     "metadata": {},
     "output_type": "display_data"
    },
    {
     "data": {
      "application/vnd.jupyter.widget-view+json": {
       "model_id": "294d8c74c4054dfaa2ff31a5d0b58303",
       "version_major": 2,
       "version_minor": 0
      },
      "text/plain": [
       "vocab.txt:   0%|          | 0.00/232k [00:00<?, ?B/s]"
      ]
     },
     "metadata": {},
     "output_type": "display_data"
    },
    {
     "data": {
      "application/vnd.jupyter.widget-view+json": {
       "model_id": "a4d2400ba6f049f182f9a4bda740f50d",
       "version_major": 2,
       "version_minor": 0
      },
      "text/plain": [
       "tokenizer.json:   0%|          | 0.00/466k [00:00<?, ?B/s]"
      ]
     },
     "metadata": {},
     "output_type": "display_data"
    },
    {
     "data": {
      "application/vnd.jupyter.widget-view+json": {
       "model_id": "84a88abf4f4c4b84a846b7995364bf1e",
       "version_major": 2,
       "version_minor": 0
      },
      "text/plain": [
       "Map:   0%|          | 0/4863 [00:00<?, ? examples/s]"
      ]
     },
     "metadata": {},
     "output_type": "display_data"
    },
    {
     "data": {
      "application/vnd.jupyter.widget-view+json": {
       "model_id": "5f3a4196c55d495e9c827c026f282740",
       "version_major": 2,
       "version_minor": 0
      },
      "text/plain": [
       "Map:   0%|          | 0/1216 [00:00<?, ? examples/s]"
      ]
     },
     "metadata": {},
     "output_type": "display_data"
    }
   ],
   "source": [
    "from datasets import Dataset\n",
    "from transformers import AutoTokenizer\n",
    "\n",
    "tokenizer = AutoTokenizer.from_pretrained(\"bert-base-uncased\")\n",
    "dataset = Dataset.from_pandas(df)\n",
    "\n",
    "def tokenize(batch):\n",
    "    return tokenizer(batch[\"text\"], padding=\"max_length\", truncation=True, max_length=512)\n",
    "\n",
    "dataset = dataset.train_test_split(test_size=0.2)\n",
    "tokenized_dataset = dataset.map(tokenize, batched=True)\n",
    "\n",
    "# # Prepare labels as one vector of 30 floats\n",
    "# def format_dataset(example):\n",
    "#     example[\"labels\"] = [example[m] for m in metric_cols]\n",
    "#     return example\n",
    "\n",
    "# tokenized_dataset = tokenized_dataset.map(format_dataset)\n"
   ]
  },
  {
   "cell_type": "code",
   "execution_count": 5,
   "metadata": {},
   "outputs": [
    {
     "name": "stdout",
     "output_type": "stream",
     "text": [
      "Index(['qa_id', 'text', 'category', 'host', 'label'], dtype='object')\n"
     ]
    }
   ],
   "source": [
    "print(df.columns)\n"
   ]
  },
  {
   "cell_type": "code",
   "execution_count": 6,
   "metadata": {},
   "outputs": [],
   "source": [
    "import torch\n",
    "import torch.nn as nn\n",
    "from transformers import AutoModel\n",
    "\n",
    "class SimpleMultiMetricBERT(nn.Module):\n",
    "    def __init__(self, model_name=\"bert-base-uncased\", num_outputs=30):\n",
    "        super().__init__()\n",
    "        self.bert = AutoModel.from_pretrained(model_name)\n",
    "        self.dropout = nn.Dropout(0.2)\n",
    "        self.regressor = nn.Linear(self.bert.config.hidden_size, num_outputs)\n",
    "\n",
    "    def forward(self, input_ids, attention_mask, labels=None):\n",
    "        outputs = self.bert(input_ids=input_ids, attention_mask=attention_mask)\n",
    "        pooled_output = outputs.pooler_output\n",
    "        preds = self.regressor(self.dropout(pooled_output))  # shape: (batch_size, 1)\n",
    "\n",
    "        if labels is not None:\n",
    "            if labels.dim() == 1:  # אם ה-labels בצורת [batch_size]\n",
    "                labels = labels.view(-1, 1)  # תן להם ממד נוסף\n",
    "            loss_fn = nn.MSELoss()\n",
    "            loss = loss_fn(preds, labels)\n",
    "            return {\"loss\": loss, \"logits\": preds}\n",
    "        return {\"logits\": preds}\n",
    "\n"
   ]
  },
  {
   "cell_type": "code",
   "execution_count": 7,
   "metadata": {},
   "outputs": [],
   "source": [
    "import numpy as np\n",
    "from sklearn.metrics import mean_squared_error\n",
    "from scipy.stats import pearsonr, spearmanr\n",
    "\n",
    "def compute_metrics(eval_pred):\n",
    "    preds, labels = eval_pred\n",
    "\n",
    "    preds = np.squeeze(np.array(preds))   # (batch_size, 1) -> (batch_size,)\n",
    "    labels = np.squeeze(np.array(labels)) # כנ\"ל\n",
    "\n",
    "    metrics = {}\n",
    "    metrics[\"mse\"] = mean_squared_error(labels, preds)\n",
    "\n",
    "    # הגנות למקרה שהמערך קבוע ולא ניתן לחשב קורלציה\n",
    "    try:\n",
    "        metrics[\"pearson\"] = pearsonr(labels, preds)[0]\n",
    "    except:\n",
    "        metrics[\"pearson\"] = 0.0\n",
    "\n",
    "    try:\n",
    "        metrics[\"spearman\"] = spearmanr(labels, preds).correlation\n",
    "    except:\n",
    "        metrics[\"spearman\"] = 0.0\n",
    "\n",
    "    return metrics\n"
   ]
  },
  {
   "cell_type": "code",
   "execution_count": 8,
   "metadata": {},
   "outputs": [
    {
     "data": {
      "application/vnd.jupyter.widget-view+json": {
       "model_id": "63b45199072b4c879083e946f287df41",
       "version_major": 2,
       "version_minor": 0
      },
      "text/plain": [
       "model.safetensors:   0%|          | 0.00/440M [00:00<?, ?B/s]"
      ]
     },
     "metadata": {},
     "output_type": "display_data"
    },
    {
     "name": "stderr",
     "output_type": "stream",
     "text": [
      "/tmp/ipython-input-3338483290.py:21: FutureWarning: `tokenizer` is deprecated and will be removed in version 5.0.0 for `Trainer.__init__`. Use `processing_class` instead.\n",
      "  trainer = Trainer(\n"
     ]
    }
   ],
   "source": [
    "from transformers import Trainer, TrainingArguments\n",
    "\n",
    "training_args = TrainingArguments(\n",
    "    output_dir=\"/content/drive/MyDrive/simple_30reg_output\",\n",
    "    run_name=\"simple_30reg\",\n",
    "    report_to=\"none\",\n",
    "    eval_strategy=\"epoch\",         # תיקון שם הפרמטר מ-eval_strategy\n",
    "    save_strategy=\"epoch\",\n",
    "    learning_rate=2e-5,\n",
    "    per_device_train_batch_size=8,\n",
    "    per_device_eval_batch_size=8,\n",
    "    num_train_epochs=3,\n",
    "    weight_decay=0.01,\n",
    "    load_best_model_at_end=True,\n",
    "    metric_for_best_model=\"mse\"          # רלוונטי ל-label אחת בלבד\n",
    ")\n",
    "\n",
    "# ודא שהמודל מתאים לרגרסיה עם output אחד\n",
    "model = SimpleMultiMetricBERT(model_name=\"bert-base-uncased\", num_outputs=1)\n",
    "\n",
    "trainer = Trainer(\n",
    "    model=model,\n",
    "    args=training_args,\n",
    "    train_dataset=tokenized_dataset[\"train\"],\n",
    "    eval_dataset=tokenized_dataset[\"test\"],\n",
    "    tokenizer=tokenizer,\n",
    "    compute_metrics=compute_metrics,\n",
    ")\n"
   ]
  },
  {
   "cell_type": "code",
   "execution_count": 9,
   "metadata": {},
   "outputs": [
    {
     "name": "stderr",
     "output_type": "stream",
     "text": [
      "/usr/local/lib/python3.11/dist-packages/torch/nn/modules/module.py:1750: FutureWarning: `encoder_attention_mask` is deprecated and will be removed in version 4.55.0 for `BertSdpaSelfAttention.forward`.\n",
      "  return forward_call(*args, **kwargs)\n"
     ]
    },
    {
     "data": {
      "text/html": [
       "\n",
       "    <div>\n",
       "      \n",
       "      <progress value='1824' max='1824' style='width:300px; height:20px; vertical-align: middle;'></progress>\n",
       "      [1824/1824 27:43, Epoch 3/3]\n",
       "    </div>\n",
       "    <table border=\"1\" class=\"dataframe\">\n",
       "  <thead>\n",
       " <tr style=\"text-align: left;\">\n",
       "      <th>Epoch</th>\n",
       "      <th>Training Loss</th>\n",
       "      <th>Validation Loss</th>\n",
       "      <th>Mse</th>\n",
       "      <th>Pearson</th>\n",
       "      <th>Spearman</th>\n",
       "    </tr>\n",
       "  </thead>\n",
       "  <tbody>\n",
       "    <tr>\n",
       "      <td>1</td>\n",
       "      <td>0.031200</td>\n",
       "      <td>0.017828</td>\n",
       "      <td>0.017828</td>\n",
       "      <td>0.222831</td>\n",
       "      <td>0.183291</td>\n",
       "    </tr>\n",
       "    <tr>\n",
       "      <td>2</td>\n",
       "      <td>0.017900</td>\n",
       "      <td>0.017655</td>\n",
       "      <td>0.017655</td>\n",
       "      <td>0.259158</td>\n",
       "      <td>0.193436</td>\n",
       "    </tr>\n",
       "    <tr>\n",
       "      <td>3</td>\n",
       "      <td>0.016300</td>\n",
       "      <td>0.017398</td>\n",
       "      <td>0.017398</td>\n",
       "      <td>0.292320</td>\n",
       "      <td>0.220275</td>\n",
       "    </tr>\n",
       "  </tbody>\n",
       "</table><p>"
      ],
      "text/plain": [
       "<IPython.core.display.HTML object>"
      ]
     },
     "metadata": {},
     "output_type": "display_data"
    },
    {
     "name": "stderr",
     "output_type": "stream",
     "text": [
      "/usr/local/lib/python3.11/dist-packages/torch/nn/modules/module.py:1750: FutureWarning: `encoder_attention_mask` is deprecated and will be removed in version 4.55.0 for `BertSdpaSelfAttention.forward`.\n",
      "  return forward_call(*args, **kwargs)\n",
      "/usr/local/lib/python3.11/dist-packages/torch/nn/modules/module.py:1750: FutureWarning: `encoder_attention_mask` is deprecated and will be removed in version 4.55.0 for `BertSdpaSelfAttention.forward`.\n",
      "  return forward_call(*args, **kwargs)\n",
      "/usr/local/lib/python3.11/dist-packages/torch/nn/modules/module.py:1750: FutureWarning: `encoder_attention_mask` is deprecated and will be removed in version 4.55.0 for `BertSdpaSelfAttention.forward`.\n",
      "  return forward_call(*args, **kwargs)\n"
     ]
    },
    {
     "data": {
      "text/html": [
       "\n",
       "    <div>\n",
       "      \n",
       "      <progress value='152' max='152' style='width:300px; height:20px; vertical-align: middle;'></progress>\n",
       "      [152/152 00:36]\n",
       "    </div>\n",
       "    "
      ],
      "text/plain": [
       "<IPython.core.display.HTML object>"
      ]
     },
     "metadata": {},
     "output_type": "display_data"
    },
    {
     "name": "stdout",
     "output_type": "stream",
     "text": [
      "📊 Evaluation Results:\n",
      "{'epoch': 3.0,\n",
      " 'eval_loss': 0.01782843843102455,\n",
      " 'eval_mse': 0.01782843843102455,\n",
      " 'eval_pearson': 0.22283117473125458,\n",
      " 'eval_runtime': 36.9406,\n",
      " 'eval_samples_per_second': 32.918,\n",
      " 'eval_spearman': 0.18329112928558294,\n",
      " 'eval_steps_per_second': 4.115}\n"
     ]
    },
    {
     "data": {
      "text/plain": [
       "('bert-30-simple/tokenizer_config.json',\n",
       " 'bert-30-simple/special_tokens_map.json',\n",
       " 'bert-30-simple/vocab.txt',\n",
       " 'bert-30-simple/added_tokens.json',\n",
       " 'bert-30-simple/tokenizer.json')"
      ]
     },
     "execution_count": 9,
     "metadata": {},
     "output_type": "execute_result"
    }
   ],
   "source": [
    "trainer.train()\n",
    "\n",
    "# Evaluate\n",
    "from pprint import pprint\n",
    "metrics = trainer.evaluate()\n",
    "print(\"📊 Evaluation Results:\")\n",
    "pprint(metrics)\n",
    "\n",
    "# Save final model\n",
    "trainer.save_model(\"bert-30-simple\")\n",
    "tokenizer.save_pretrained(\"bert-30-simple\")\n"
   ]
  },
  {
   "cell_type": "code",
   "execution_count": 10,
   "metadata": {},
   "outputs": [
    {
     "data": {
      "image/png": "[encoded data removed]",
      "text/plain": [
       "<Figure size 1200x800 with 1 Axes>"
      ]
     },
     "metadata": {},
     "output_type": "display_data"
    }
   ],
   "source": [
    "# 📈 Plot metrics over epochs\n",
    "logs = trainer.state.log_history\n",
    "import pandas as pd\n",
    "import matplotlib.pyplot as plt\n",
    "\n",
    "df = pd.DataFrame(logs)\n",
    "\n",
    "# Filter only epochs (הסר לוגים לא רלוונטיים כמו evaluation לפני epoch 1)\n",
    "df = df[df['epoch'].notna()]\n",
    "\n",
    "metrics_to_plot = ['loss', 'eval_loss', 'eval_mse', 'eval_pearson', 'eval_spearman']\n",
    "\n",
    "plt.figure(figsize=(12, 8))\n",
    "for metric in metrics_to_plot:\n",
    "    if metric in df.columns:\n",
    "        plt.plot(df['epoch'], df[metric], marker='o', label=metric)\n",
    "\n",
    "plt.xlabel(\"Epoch\")\n",
    "plt.ylabel(\"Metric Value\")\n",
    "plt.title(\"Training and Evaluation Metrics over Epochs\")\n",
    "plt.legend()\n",
    "plt.grid(True)\n",
    "plt.show()"
   ]
  },
  {
   "cell_type": "code",
   "execution_count": 11,
   "metadata": {},
   "outputs": [
    {
     "data": {
      "image/png": "[encoded data removed]",
      "text/plain": [
       "<Figure size 1200x800 with 1 Axes>"
      ]
     },
     "metadata": {},
     "output_type": "display_data"
    }
   ],
   "source": [
    "import pandas as pd\n",
    "import matplotlib.pyplot as plt\n",
    "\n",
    "# המרת הלוג לפורמט טבלה\n",
    "logs = trainer.state.log_history\n",
    "df = pd.DataFrame(logs)\n",
    "\n",
    "# סינון שורות עם ערך אפוק\n",
    "df = df[df['epoch'].notna()]\n",
    "df['epoch'] = df['epoch'].astype(float)\n",
    "\n",
    "# רשימת המטריקות שתרצה לצייר\n",
    "metrics_to_plot = ['loss', 'eval_loss', 'eval_mse', 'eval_pearson', 'eval_spearman']\n",
    "\n",
    "# ציור\n",
    "plt.figure(figsize=(12, 8))\n",
    "for metric in metrics_to_plot:\n",
    "    if metric in df.columns:\n",
    "        sub_df = df[['epoch', metric]].dropna()  # סינון NaN כדי לא לשבור את הקו\n",
    "        plt.plot(sub_df['epoch'], sub_df[metric], marker='o', label=metric)\n",
    "\n",
    "plt.xticks([1, 2, 3])  # רק האפוקים השלמים\n",
    "plt.xlabel(\"Epoch\")\n",
    "plt.ylabel(\"Metric Value\")\n",
    "plt.title(\"Training and Evaluation Metrics per Epoch\")\n",
    "plt.legend()\n",
    "plt.grid(True)\n",
    "plt.show()\n"
   ]
  },
  {
   "cell_type": "code",
   "execution_count": 11,
   "metadata": {},
   "outputs": [],
   "source": []
  }
 ],
 "metadata": {
  "language_info": {
   "name": "python"
  }
 },
 "nbformat": 4,
 "nbformat_minor": 0
}
